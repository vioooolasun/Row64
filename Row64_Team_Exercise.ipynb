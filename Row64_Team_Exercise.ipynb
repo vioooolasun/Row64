{
  "nbformat": 4,
  "nbformat_minor": 0,
  "metadata": {
    "colab": {
      "provenance": [],
      "authorship_tag": "ABX9TyNC3Z5QHx+yVx7DAl7kK9le",
      "include_colab_link": true
    },
    "kernelspec": {
      "name": "python3",
      "display_name": "Python 3"
    },
    "language_info": {
      "name": "python"
    }
  },
  "cells": [
    {
      "cell_type": "markdown",
      "metadata": {
        "id": "view-in-github",
        "colab_type": "text"
      },
      "source": [
        "<a href=\"https://colab.research.google.com/github/vioooolasun/Row64/blob/main/Row64_Team_Exercise.ipynb\" target=\"_parent\"><img src=\"https://colab.research.google.com/assets/colab-badge.svg\" alt=\"Open In Colab\"/></a>"
      ]
    },
    {
      "cell_type": "markdown",
      "source": [
        "Row64 Execrise"
      ],
      "metadata": {
        "id": "eJVCGSNIka4Y"
      }
    },
    {
      "cell_type": "markdown",
      "source": [
        "Frequnecy in Manhattan by Neighborhood"
      ],
      "metadata": {
        "id": "m7o3iFkemgVs"
      }
    },
    {
      "cell_type": "code",
      "source": [
        "import matplotlib\n",
        "import matplotlib.colors as cl\n",
        "import matplotlib.pyplot as plt\n",
        "import numpy as np\n",
        "import pandas as pd\n",
        "import row64\n",
        "import sidetable\n",
        "\n",
        "def ViewText(inDf, inRowI, inList):\n",
        "\tcName = inDf.columns[inRowI]\n",
        "\tnewDf = inDf[inDf[cName].str.contains('|'.join(inList), case=False)]\n",
        "\treturn newDf\n",
        "\n",
        "def FreqReport(inDf,inColI):\n",
        "\tcName = inDf.columns[inColI]\n",
        "\tinDf = inDf.stb.freq([cName])\n",
        "\treturn inDf\n",
        "\n",
        "def GradientBars(inDf, inValueI, inNameI):\n",
        "\tcList = ['#479DDD', '#83B3DF']\n",
        "\tvalues = inDf[inDf.columns[inValueI]]\n",
        "\tnames = inDf[inDf.columns[inNameI]]\n",
        "\tplt.rc('xtick', labelsize=8)\n",
        "\tplt.rc('ytick', labelsize=7)\n",
        "\tx_pos = np.arange(len(names))\n",
        "\tplt.xticks(x_pos, names,horizontalalignment='right',rotation=60)\n",
        "\tcRGB = [cl.to_rgb(col) for col in cList]\n",
        "\tbars = plt.bar(x_pos, values, color=cList[0])\n",
        "\tcmap = cl.LinearSegmentedColormap.from_list(\"\", cRGB)\n",
        "\tax = bars[0].axes\n",
        "\tlim = ax.get_xlim()+ax.get_ylim()\n",
        "\tfor bar in bars:\n",
        "\t\tbar.set_facecolor(\"none\")\n",
        "\t\tx,y = bar.get_xy()\n",
        "\t\tw, h = bar.get_width(), bar.get_height()\n",
        "\t\tgrad = np.atleast_2d(np.linspace(0,1*w/max(values),256))\n",
        "\t\tax.imshow(grad, extent=[x,x+w,y,y+h], aspect=\"auto\", zorder=0, cmap=cmap)\n",
        "\tax.axis(lim)\n",
        "\tax.get_yaxis().set_major_formatter(matplotlib.ticker.FuncFormatter(lambda x, p: format(int(x), ',')))\n",
        "\n",
        "dfIn=row64.get_dataframe(\"Dataframe4\")\n",
        "df=dfIn.copy(deep=True)\n",
        "df=ViewText(df,5,[\"Manhattan\"])\n",
        "df=FreqReport(df,6)\n",
        "GradientBars(df,2,0)"
      ],
      "metadata": {
        "id": "XNd7ZgxVkhY4"
      },
      "execution_count": null,
      "outputs": []
    },
    {
      "cell_type": "markdown",
      "source": [
        "Frequency Distribution Room Type"
      ],
      "metadata": {
        "id": "cx0kQAn0mXnP"
      }
    },
    {
      "cell_type": "code",
      "source": [
        "import pandas as pd\n",
        "import row64\n",
        "import sidetable\n",
        "\n",
        "def FreqReport(inDf,inColI):\n",
        "\tcName = inDf.columns[inColI]\n",
        "\tinDf = inDf.stb.freq([cName])\n",
        "\treturn inDf\n",
        "\n",
        "#IMPORT(\"C:\\Users\\timze\\pepperdine\\fall_22\\istm_660\\airbnb_nyc_clean.csv\")\n",
        "dfIn=row64.get_dataframe(\"Dataframe4\")\n",
        "df=dfIn.copy(deep=True)\n",
        "df=FreqReport(df,11)\n",
        "\n"
      ],
      "metadata": {
        "id": "tVNPKgwfkpOv"
      },
      "execution_count": null,
      "outputs": []
    },
    {
      "cell_type": "markdown",
      "source": [
        "Minimum Nights Bar Charts"
      ],
      "metadata": {
        "id": "Y-HA0hlmmRpF"
      }
    },
    {
      "cell_type": "code",
      "source": [
        "import matplotlib\n",
        "import matplotlib.colors as cl\n",
        "import matplotlib.pyplot as plt\n",
        "import numpy as np\n",
        "import pandas as pd\n",
        "import row64\n",
        "import sidetable\n",
        "\n",
        "def FreqReport(inDf,inColI):\n",
        "\tcName = inDf.columns[inColI]\n",
        "\tinDf = inDf.stb.freq([cName])\n",
        "\treturn inDf\n",
        "\n",
        "def GradientBars(inDf, inValueI, inNameI):\n",
        "\tcList = ['#479DDD', '#83B3DF']\n",
        "\tvalues = inDf[inDf.columns[inValueI]]\n",
        "\tnames = inDf[inDf.columns[inNameI]]\n",
        "\tplt.rc('xtick', labelsize=8)\n",
        "\tplt.rc('ytick', labelsize=7)\n",
        "\tx_pos = np.arange(len(names))\n",
        "\tplt.xticks(x_pos, names,horizontalalignment='right',rotation=45)\n",
        "\tcRGB = [cl.to_rgb(col) for col in cList]\n",
        "\tbars = plt.bar(x_pos, values, color=cList[0])\n",
        "\tcmap = cl.LinearSegmentedColormap.from_list(\"\", cRGB)\n",
        "\tax = bars[0].axes\n",
        "\tlim = ax.get_xlim()+ax.get_ylim()\n",
        "\tfor bar in bars:\n",
        "\t\tbar.set_facecolor(\"none\")\n",
        "\t\tx,y = bar.get_xy()\n",
        "\t\tw, h = bar.get_width(), bar.get_height()\n",
        "\t\tgrad = np.atleast_2d(np.linspace(0,1*w/max(values),256))\n",
        "\t\tax.imshow(grad, extent=[x,x+w,y,y+h], aspect=\"auto\", zorder=0, cmap=cmap)\n",
        "\tax.axis(lim)\n",
        "\tax.get_yaxis().set_major_formatter(matplotlib.ticker.FuncFormatter(lambda x, p: format(int(x), ',')))\n",
        "\n",
        "dfIn=row64.get_dataframe(\"Dataframe4\")\n",
        "df=FreqReport(df,15).sort_values(\"minimum_nights\", ascending=True)\n",
        "GradientBars(df,2,0)"
      ],
      "metadata": {
        "id": "G45n-ReXku-W"
      },
      "execution_count": null,
      "outputs": []
    },
    {
      "cell_type": "markdown",
      "source": [
        "Construction Years Bar Chart"
      ],
      "metadata": {
        "id": "U9IOUEqJmPdC"
      }
    },
    {
      "cell_type": "code",
      "source": [
        "import matplotlib\n",
        "import matplotlib.colors as cl\n",
        "import matplotlib.pyplot as plt\n",
        "import numpy as np\n",
        "import pandas as pd\n",
        "import row64\n",
        "import sidetable\n",
        "\n",
        "def FreqReport(inDf,inColI):\n",
        "\tcName = inDf.columns[inColI]\n",
        "\tinDf = inDf.stb.freq([cName])\n",
        "\treturn inDf\n",
        "\n",
        "def GradientBars(inDf, inValueI, inNameI):\n",
        "\tcList = ['#479DDD', '#83B3DF']\n",
        "\tvalues = inDf[inDf.columns[inValueI]]\n",
        "\tnames = inDf[inDf.columns[inNameI]]\n",
        "\tplt.rc('xtick', labelsize=8)\n",
        "\tplt.rc('ytick', labelsize=7)\n",
        "\tx_pos = np.arange(len(names))\n",
        "\tplt.xticks(x_pos, names,horizontalalignment='right',rotation=45)\n",
        "\tcRGB = [cl.to_rgb(col) for col in cList]\n",
        "\tbars = plt.bar(x_pos, values, color=cList[0])\n",
        "\tcmap = cl.LinearSegmentedColormap.from_list(\"\", cRGB)\n",
        "\tax = bars[0].axes\n",
        "\tlim = ax.get_xlim()+ax.get_ylim()\n",
        "\tfor bar in bars:\n",
        "\t\tbar.set_facecolor(\"none\")\n",
        "\t\tx,y = bar.get_xy()\n",
        "\t\tw, h = bar.get_width(), bar.get_height()\n",
        "\t\tgrad = np.atleast_2d(np.linspace(0,1*w/max(values),256))\n",
        "\t\tax.imshow(grad, extent=[x,x+w,y,y+h], aspect=\"auto\", zorder=0, cmap=cmap)\n",
        "\tax.axis(lim)\n",
        "\tax.get_yaxis().set_major_formatter(matplotlib.ticker.FuncFormatter(lambda x, p: format(int(x), ',')))\n",
        "\n",
        "dfIn=row64.get_dataframe(\"Dataframe4\")\n",
        "df=dfIn.copy(deep=True)\n",
        "df=FreqReport(df,12)\n",
        "GradientBars(df,2,0)"
      ],
      "metadata": {
        "id": "b8lhuNDOlBRr"
      },
      "execution_count": null,
      "outputs": []
    }
  ]
}